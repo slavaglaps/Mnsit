{
 "cells": [
  {
   "cell_type": "code",
   "execution_count": 1,
   "metadata": {
    "collapsed": true,
    "deletable": true,
    "editable": true
   },
   "outputs": [],
   "source": [
    "%matplotlib inline\n",
    "import numpy as np\n",
    "import pandas as pd\n",
    "import tensorflow as tf\n",
    "import matplotlib.pyplot as plt\n",
    "from sklearn.model_selection import ShuffleSplit\n",
    "from sklearn.preprocessing import StandardScaler, LabelEncoder, OneHotEncoder"
   ]
  },
  {
   "cell_type": "code",
   "execution_count": 2,
   "metadata": {
    "collapsed": true,
    "deletable": true,
    "editable": true
   },
   "outputs": [],
   "source": [
    "LABELS = 10 # Number of different types of labels (1-10)\n",
    "WIDTH = 28 # width / height of the image\n",
    "CHANNELS = 1 # Number of colors in the image (greyscale)\n",
    "\n",
    "VALID = 10000 # Validation data size\n",
    "\n",
    "STEPS = 20000 #20000   # Number of steps to run\n",
    "BATCH = 100 # Stochastic Gradient Descent batch size\n",
    "PATCH = 5 # Convolutional Kernel size\n",
    "DEPTH = 8 #32 # Convolutional Kernel depth size == Number of Convolutional Kernels\n",
    "HIDDEN = 100 #1024 # Number of hidden neurons in the fully connected layer\n",
    "\n",
    "LR = 0.001 # Learning rate"
   ]
  },
  {
   "cell_type": "code",
   "execution_count": 3,
   "metadata": {
    "collapsed": false,
    "deletable": true,
    "editable": true
   },
   "outputs": [
    {
     "name": "stdout",
     "output_type": "stream",
     "text": [
      "train data shape = (32000, 28, 28, 1) = (TRAIN, WIDTH, WIDTH, CHANNELS)\n",
      "labels shape = (42000, 10) = (TRAIN, LABELS)\n"
     ]
    },
    {
     "data": {
      "text/plain": [
       "array([[[[  0.00000000e+00],\n",
       "         [  0.00000000e+00],\n",
       "         [  0.00000000e+00],\n",
       "         ..., \n",
       "         [  0.00000000e+00],\n",
       "         [  0.00000000e+00],\n",
       "         [  0.00000000e+00]],\n",
       "\n",
       "        [[  0.00000000e+00],\n",
       "         [  0.00000000e+00],\n",
       "         [  0.00000000e+00],\n",
       "         ..., \n",
       "         [  0.00000000e+00],\n",
       "         [  0.00000000e+00],\n",
       "         [  0.00000000e+00]],\n",
       "\n",
       "        [[  0.00000000e+00],\n",
       "         [  0.00000000e+00],\n",
       "         [ -1.91355211e-05],\n",
       "         ..., \n",
       "         [ -3.15960388e-05],\n",
       "         [  0.00000000e+00],\n",
       "         [  0.00000000e+00]],\n",
       "\n",
       "        ..., \n",
       "        [[  0.00000000e+00],\n",
       "         [  0.00000000e+00],\n",
       "         [ -3.12370139e-05],\n",
       "         ..., \n",
       "         [ -2.66013139e-05],\n",
       "         [ -1.91355248e-05],\n",
       "         [  0.00000000e+00]],\n",
       "\n",
       "        [[  0.00000000e+00],\n",
       "         [  0.00000000e+00],\n",
       "         [  0.00000000e+00],\n",
       "         ..., \n",
       "         [ -1.91355230e-05],\n",
       "         [  0.00000000e+00],\n",
       "         [  0.00000000e+00]],\n",
       "\n",
       "        [[  0.00000000e+00],\n",
       "         [  0.00000000e+00],\n",
       "         [  0.00000000e+00],\n",
       "         ..., \n",
       "         [  0.00000000e+00],\n",
       "         [  0.00000000e+00],\n",
       "         [  0.00000000e+00]]],\n",
       "\n",
       "\n",
       "       [[[  0.00000000e+00],\n",
       "         [  0.00000000e+00],\n",
       "         [  0.00000000e+00],\n",
       "         ..., \n",
       "         [  0.00000000e+00],\n",
       "         [  0.00000000e+00],\n",
       "         [  0.00000000e+00]],\n",
       "\n",
       "        [[  0.00000000e+00],\n",
       "         [  0.00000000e+00],\n",
       "         [  0.00000000e+00],\n",
       "         ..., \n",
       "         [  0.00000000e+00],\n",
       "         [  0.00000000e+00],\n",
       "         [  0.00000000e+00]],\n",
       "\n",
       "        [[  0.00000000e+00],\n",
       "         [  0.00000000e+00],\n",
       "         [ -1.91355211e-05],\n",
       "         ..., \n",
       "         [ -3.15960388e-05],\n",
       "         [  0.00000000e+00],\n",
       "         [  0.00000000e+00]],\n",
       "\n",
       "        ..., \n",
       "        [[  0.00000000e+00],\n",
       "         [  0.00000000e+00],\n",
       "         [ -3.12370139e-05],\n",
       "         ..., \n",
       "         [ -2.66013139e-05],\n",
       "         [ -1.91355248e-05],\n",
       "         [  0.00000000e+00]],\n",
       "\n",
       "        [[  0.00000000e+00],\n",
       "         [  0.00000000e+00],\n",
       "         [  0.00000000e+00],\n",
       "         ..., \n",
       "         [ -1.91355230e-05],\n",
       "         [  0.00000000e+00],\n",
       "         [  0.00000000e+00]],\n",
       "\n",
       "        [[  0.00000000e+00],\n",
       "         [  0.00000000e+00],\n",
       "         [  0.00000000e+00],\n",
       "         ..., \n",
       "         [  0.00000000e+00],\n",
       "         [  0.00000000e+00],\n",
       "         [  0.00000000e+00]]],\n",
       "\n",
       "\n",
       "       [[[  0.00000000e+00],\n",
       "         [  0.00000000e+00],\n",
       "         [  0.00000000e+00],\n",
       "         ..., \n",
       "         [  0.00000000e+00],\n",
       "         [  0.00000000e+00],\n",
       "         [  0.00000000e+00]],\n",
       "\n",
       "        [[  0.00000000e+00],\n",
       "         [  0.00000000e+00],\n",
       "         [  0.00000000e+00],\n",
       "         ..., \n",
       "         [  0.00000000e+00],\n",
       "         [  0.00000000e+00],\n",
       "         [  0.00000000e+00]],\n",
       "\n",
       "        [[  0.00000000e+00],\n",
       "         [  0.00000000e+00],\n",
       "         [ -1.91355211e-05],\n",
       "         ..., \n",
       "         [ -3.15960388e-05],\n",
       "         [  0.00000000e+00],\n",
       "         [  0.00000000e+00]],\n",
       "\n",
       "        ..., \n",
       "        [[  0.00000000e+00],\n",
       "         [  0.00000000e+00],\n",
       "         [ -3.12370139e-05],\n",
       "         ..., \n",
       "         [ -2.66013139e-05],\n",
       "         [ -1.91355248e-05],\n",
       "         [  0.00000000e+00]],\n",
       "\n",
       "        [[  0.00000000e+00],\n",
       "         [  0.00000000e+00],\n",
       "         [  0.00000000e+00],\n",
       "         ..., \n",
       "         [ -1.91355230e-05],\n",
       "         [  0.00000000e+00],\n",
       "         [  0.00000000e+00]],\n",
       "\n",
       "        [[  0.00000000e+00],\n",
       "         [  0.00000000e+00],\n",
       "         [  0.00000000e+00],\n",
       "         ..., \n",
       "         [  0.00000000e+00],\n",
       "         [  0.00000000e+00],\n",
       "         [  0.00000000e+00]]],\n",
       "\n",
       "\n",
       "       ..., \n",
       "       [[[  0.00000000e+00],\n",
       "         [  0.00000000e+00],\n",
       "         [  0.00000000e+00],\n",
       "         ..., \n",
       "         [  0.00000000e+00],\n",
       "         [  0.00000000e+00],\n",
       "         [  0.00000000e+00]],\n",
       "\n",
       "        [[  0.00000000e+00],\n",
       "         [  0.00000000e+00],\n",
       "         [  0.00000000e+00],\n",
       "         ..., \n",
       "         [  0.00000000e+00],\n",
       "         [  0.00000000e+00],\n",
       "         [  0.00000000e+00]],\n",
       "\n",
       "        [[  0.00000000e+00],\n",
       "         [  0.00000000e+00],\n",
       "         [ -1.91355211e-05],\n",
       "         ..., \n",
       "         [ -3.15960388e-05],\n",
       "         [  0.00000000e+00],\n",
       "         [  0.00000000e+00]],\n",
       "\n",
       "        ..., \n",
       "        [[  0.00000000e+00],\n",
       "         [  0.00000000e+00],\n",
       "         [ -3.12370139e-05],\n",
       "         ..., \n",
       "         [ -2.66013139e-05],\n",
       "         [ -1.91355248e-05],\n",
       "         [  0.00000000e+00]],\n",
       "\n",
       "        [[  0.00000000e+00],\n",
       "         [  0.00000000e+00],\n",
       "         [  0.00000000e+00],\n",
       "         ..., \n",
       "         [ -1.91355230e-05],\n",
       "         [  0.00000000e+00],\n",
       "         [  0.00000000e+00]],\n",
       "\n",
       "        [[  0.00000000e+00],\n",
       "         [  0.00000000e+00],\n",
       "         [  0.00000000e+00],\n",
       "         ..., \n",
       "         [  0.00000000e+00],\n",
       "         [  0.00000000e+00],\n",
       "         [  0.00000000e+00]]],\n",
       "\n",
       "\n",
       "       [[[  0.00000000e+00],\n",
       "         [  0.00000000e+00],\n",
       "         [  0.00000000e+00],\n",
       "         ..., \n",
       "         [  0.00000000e+00],\n",
       "         [  0.00000000e+00],\n",
       "         [  0.00000000e+00]],\n",
       "\n",
       "        [[  0.00000000e+00],\n",
       "         [  0.00000000e+00],\n",
       "         [  0.00000000e+00],\n",
       "         ..., \n",
       "         [  0.00000000e+00],\n",
       "         [  0.00000000e+00],\n",
       "         [  0.00000000e+00]],\n",
       "\n",
       "        [[  0.00000000e+00],\n",
       "         [  0.00000000e+00],\n",
       "         [ -1.91355211e-05],\n",
       "         ..., \n",
       "         [ -3.15960388e-05],\n",
       "         [  0.00000000e+00],\n",
       "         [  0.00000000e+00]],\n",
       "\n",
       "        ..., \n",
       "        [[  0.00000000e+00],\n",
       "         [  0.00000000e+00],\n",
       "         [ -3.12370139e-05],\n",
       "         ..., \n",
       "         [ -2.66013139e-05],\n",
       "         [ -1.91355248e-05],\n",
       "         [  0.00000000e+00]],\n",
       "\n",
       "        [[  0.00000000e+00],\n",
       "         [  0.00000000e+00],\n",
       "         [  0.00000000e+00],\n",
       "         ..., \n",
       "         [ -1.91355230e-05],\n",
       "         [  0.00000000e+00],\n",
       "         [  0.00000000e+00]],\n",
       "\n",
       "        [[  0.00000000e+00],\n",
       "         [  0.00000000e+00],\n",
       "         [  0.00000000e+00],\n",
       "         ..., \n",
       "         [  0.00000000e+00],\n",
       "         [  0.00000000e+00],\n",
       "         [  0.00000000e+00]]],\n",
       "\n",
       "\n",
       "       [[[  0.00000000e+00],\n",
       "         [  0.00000000e+00],\n",
       "         [  0.00000000e+00],\n",
       "         ..., \n",
       "         [  0.00000000e+00],\n",
       "         [  0.00000000e+00],\n",
       "         [  0.00000000e+00]],\n",
       "\n",
       "        [[  0.00000000e+00],\n",
       "         [  0.00000000e+00],\n",
       "         [  0.00000000e+00],\n",
       "         ..., \n",
       "         [  0.00000000e+00],\n",
       "         [  0.00000000e+00],\n",
       "         [  0.00000000e+00]],\n",
       "\n",
       "        [[  0.00000000e+00],\n",
       "         [  0.00000000e+00],\n",
       "         [ -1.91355211e-05],\n",
       "         ..., \n",
       "         [ -3.15960388e-05],\n",
       "         [  0.00000000e+00],\n",
       "         [  0.00000000e+00]],\n",
       "\n",
       "        ..., \n",
       "        [[  0.00000000e+00],\n",
       "         [  0.00000000e+00],\n",
       "         [ -3.12370139e-05],\n",
       "         ..., \n",
       "         [ -2.66013139e-05],\n",
       "         [ -1.91355248e-05],\n",
       "         [  0.00000000e+00]],\n",
       "\n",
       "        [[  0.00000000e+00],\n",
       "         [  0.00000000e+00],\n",
       "         [  0.00000000e+00],\n",
       "         ..., \n",
       "         [ -1.91355230e-05],\n",
       "         [  0.00000000e+00],\n",
       "         [  0.00000000e+00]],\n",
       "\n",
       "        [[  0.00000000e+00],\n",
       "         [  0.00000000e+00],\n",
       "         [  0.00000000e+00],\n",
       "         ..., \n",
       "         [  0.00000000e+00],\n",
       "         [  0.00000000e+00],\n",
       "         [  0.00000000e+00]]]], dtype=float32)"
      ]
     },
     "execution_count": 3,
     "metadata": {},
     "output_type": "execute_result"
    }
   ],
   "source": [
    "data = pd.read_csv('Mnist_Data1/train.csv') # Read csv file in pandas dataframe\n",
    "labels = np.array(data.pop('label')) # Remove the labels as a numpy array from the dataframe\n",
    "labels = LabelEncoder().fit_transform(labels)[:, None]\n",
    "labels = OneHotEncoder().fit_transform(labels).todense()\n",
    "data = StandardScaler().fit_transform(np.float32(data.values)) # Convert the dataframe to a numpy array\n",
    "data = data/255 # Its good to normalize pixel values.\n",
    "data = data.reshape(-1, WIDTH, WIDTH, CHANNELS) # Reshape the data into 42000 2d images\n",
    "train_data, valid_data = data[:-VALID], data[-VALID:]\n",
    "train_labels, valid_labels = labels[:-VALID], labels[-VALID:]\n",
    "\n",
    "print('train data shape = ' + str(train_data.shape) + ' = (TRAIN, WIDTH, WIDTH, CHANNELS)')\n",
    "print('labels shape = ' + str(labels.shape) + ' = (TRAIN, LABELS)')\n",
    "data"
   ]
  },
  {
   "cell_type": "code",
   "execution_count": 4,
   "metadata": {
    "collapsed": false,
    "deletable": true,
    "editable": true
   },
   "outputs": [],
   "source": [
    "tf_data = tf.placeholder(tf.float32, shape=(None, WIDTH, WIDTH, CHANNELS))\n",
    "tf_labels = tf.placeholder(tf.float32, shape=(None, LABELS))"
   ]
  },
  {
   "cell_type": "code",
   "execution_count": 5,
   "metadata": {
    "collapsed": false,
    "deletable": true,
    "editable": true
   },
   "outputs": [],
   "source": [
    "w1 = tf.Variable(tf.truncated_normal([5, 5, 1, 32], stddev=0.1))\n",
    "b1 = tf.Variable(tf.zeros([32]))\n",
    "w2 = tf.Variable(tf.truncated_normal([5, 5, 32, 64], stddev=0.1))\n",
    "b2 = tf.Variable(tf.constant(1.0, shape=[64]))\n",
    "w3 = tf.Variable(tf.truncated_normal([7*7*64, 1024], stddev=0.1))\n",
    "b3 = tf.Variable(tf.constant(1.0, shape=[1024]))\n",
    "w4 = tf.Variable(tf.truncated_normal([1024, 10], stddev=0.1))\n",
    "b4 = tf.Variable(tf.constant(1.0, shape=[10]))\n",
    "keep_prob=tf.placeholder(tf.float32)\n",
    "\n",
    "\n",
    "def logits(data):\n",
    "    # Convolutional layer 1\n",
    "    x = tf.nn.conv2d(data, w1, [1, 1, 1, 1], padding='SAME')\n",
    "    x = tf.nn.max_pool(x, [1, 2, 2, 1], [1, 2, 2, 1], padding='SAME')\n",
    "    x = tf.nn.relu(x + b1)\n",
    "    # Convolutional layer 2\n",
    "    x = tf.nn.conv2d(x, w2, [1, 1, 1, 1], padding='SAME')\n",
    "    x = tf.nn.max_pool(x, [1, 2, 2, 1], [1, 2, 2, 1], padding='SAME')\n",
    "    x = tf.nn.relu(x + b2)\n",
    "    x = tf.nn.dropout(x, keep_prob)\n",
    "    # Fully connected layer\n",
    "    x = tf.reshape(x, (-1, 7*7*64))\n",
    "    x = tf.nn.relu(tf.matmul(x, w3) + b3)\n",
    "    return tf.matmul(x, w4) + b4\n",
    "\n",
    "# Prediction:\n",
    "tf_pred = tf.nn.softmax(logits(tf_data))"
   ]
  },
  {
   "cell_type": "code",
   "execution_count": 6,
   "metadata": {
    "collapsed": false,
    "deletable": true,
    "editable": true
   },
   "outputs": [
    {
     "data": {
      "text/plain": [
       "<tf.Tensor 'add_7:0' shape=(?, 10) dtype=float32>"
      ]
     },
     "execution_count": 6,
     "metadata": {},
     "output_type": "execute_result"
    }
   ],
   "source": [
    " logits(tf_data)"
   ]
  },
  {
   "cell_type": "code",
   "execution_count": 7,
   "metadata": {
    "collapsed": false,
    "deletable": true,
    "editable": true
   },
   "outputs": [],
   "source": [
    "tf_loss = tf.reduce_mean(tf.nn.softmax_cross_entropy_with_logits(logits=logits(tf_data), \n",
    "                                                                 labels=tf_labels))\n",
    "tf_acc = 100*tf.reduce_mean(tf.to_float(tf.equal(tf.argmax(tf_pred, 1), tf.argmax(tf_labels, 1))))\n",
    "\n",
    "#tf_opt = tf.train.GradientDescentOptimizer(LR)\n",
    "tf_opt = tf.train.AdamOptimizer(LR)\n",
    "#tf_opt = tf.train.RMSPropOptimizer(LR)\n",
    "tf_step = tf_opt.minimize(tf_loss)"
   ]
  },
  {
   "cell_type": "code",
   "execution_count": 8,
   "metadata": {
    "collapsed": true,
    "deletable": true,
    "editable": true
   },
   "outputs": [],
   "source": [
    "init = tf.global_variables_initializer()\n",
    "session = tf.Session()\n",
    "session.run(init)"
   ]
  },
  {
   "cell_type": "code",
   "execution_count": 9,
   "metadata": {
    "collapsed": false,
    "deletable": true,
    "editable": true
   },
   "outputs": [
    {
     "name": "stdout",
     "output_type": "stream",
     "text": [
      "Step 500 \t Valid. Acc. = 86.239998\n",
      "Step 1000 \t Valid. Acc. = 95.080017\n",
      "Step 1500 \t Valid. Acc. = 96.080002\n",
      "Step 2000 \t Valid. Acc. = 96.760017\n",
      "Step 2500 \t Valid. Acc. = 97.140015\n",
      "Step 3000 \t Valid. Acc. = 97.440018\n",
      "Step 3500 \t Valid. Acc. = 97.520004\n",
      "Step 4000 \t Valid. Acc. = 98.010010\n",
      "Step 4500 \t Valid. Acc. = 98.320007\n",
      "Step 5000 \t Valid. Acc. = 98.280014\n",
      "Step 5500 \t Valid. Acc. = 98.530022\n",
      "Step 6000 \t Valid. Acc. = 98.410011\n",
      "Step 6500 \t Valid. Acc. = 98.360016\n",
      "Step 7000 \t Valid. Acc. = 98.530014\n",
      "Step 7500 \t Valid. Acc. = 98.460022\n",
      "Step 8000 \t Valid. Acc. = 98.490013\n",
      "Step 8500 \t Valid. Acc. = 98.260017\n",
      "Step 9000 \t Valid. Acc. = 98.650017\n",
      "Step 9500 \t Valid. Acc. = 98.800011\n",
      "Step 10000 \t Valid. Acc. = 98.600021\n",
      "Step 10500 \t Valid. Acc. = 98.710014\n",
      "Step 11000 \t Valid. Acc. = 98.770020\n",
      "Step 11500 \t Valid. Acc. = 98.700020\n",
      "Step 12000 \t Valid. Acc. = 98.830017\n",
      "Step 12500 \t Valid. Acc. = 98.740005\n",
      "Step 13000 \t Valid. Acc. = 98.580017\n",
      "Step 13500 \t Valid. Acc. = 98.770020\n",
      "Step 14000 \t Valid. Acc. = 98.630013\n",
      "Step 14500 \t Valid. Acc. = 98.650017\n",
      "Step 15000 \t Valid. Acc. = 98.650002\n",
      "Step 15500 \t Valid. Acc. = 98.760010\n",
      "Step 16000 \t Valid. Acc. = 98.840012\n",
      "Step 16500 \t Valid. Acc. = 98.730019\n",
      "Step 17000 \t Valid. Acc. = 98.610016\n",
      "Step 17500 \t Valid. Acc. = 98.880013\n",
      "Step 18000 \t Valid. Acc. = 98.740005\n",
      "Step 18500 \t Valid. Acc. = 98.920013\n",
      "Step 19000 \t Valid. Acc. = 98.910011\n",
      "Step 19500 \t Valid. Acc. = 98.810005\n",
      "Step 20000 \t Valid. Acc. = 98.770012\n"
     ]
    }
   ],
   "source": [
    "ss = ShuffleSplit(n_splits=STEPS, train_size=BATCH)\n",
    "ss.get_n_splits(train_data, train_labels)\n",
    "history = [(0, np.nan, 10)] # Initial Error Measures\n",
    "for step, (idx, _) in enumerate(ss.split(train_data,train_labels), start=1):\n",
    "    fd = {tf_data:train_data[idx], tf_labels:train_labels[idx],keep_prob:0.5}\n",
    "    session.run(tf_step, feed_dict=fd)\n",
    "    if step%500 == 0:\n",
    "            fd = {tf_data:valid_data, tf_labels:valid_labels,keep_prob:1.0}\n",
    "            valid_loss, valid_accuracy = session.run([tf_loss, tf_acc], feed_dict=fd)\n",
    "            history.append((step, valid_loss, valid_accuracy))\n",
    "            print('Step %i \\t Valid. Acc. = %f'%(step, valid_accuracy), end='\\n')"
   ]
  },
  {
   "cell_type": "code",
   "execution_count": null,
   "metadata": {
    "collapsed": false,
    "deletable": true,
    "editable": true
   },
   "outputs": [],
   "source": []
  },
  {
   "cell_type": "code",
   "execution_count": 10,
   "metadata": {
    "collapsed": false,
    "deletable": true,
    "editable": true
   },
   "outputs": [
    {
     "data": {
      "image/png": "[encoded data removed]",
      "text/plain": [
       "<matplotlib.figure.Figure at 0x7f72ffd5d0f0>"
      ]
     },
     "metadata": {},
     "output_type": "display_data"
    }
   ],
   "source": [
    "steps, loss, acc = zip(*history)\n",
    "\n",
    "fig = plt.figure()\n",
    "plt.title('Validation Loss / Accuracy')\n",
    "ax_loss = fig.add_subplot(111)\n",
    "ax_acc = ax_loss.twinx()\n",
    "plt.xlabel('Training Steps')\n",
    "plt.xlim(0, max(steps))\n",
    "\n",
    "ax_loss.plot(steps, loss, '-o', color='C0')\n",
    "ax_loss.set_ylabel('Log Loss', color='C0');\n",
    "ax_loss.tick_params('y', colors='C0')\n",
    "ax_loss.set_ylim(0.01, 0.5)\n",
    "\n",
    "ax_acc.plot(steps, acc, '-o', color='C1')\n",
    "ax_acc.set_ylabel('Accuracy [%]', color='C1');\n",
    "ax_acc.tick_params('y', colors='C1')\n",
    "ax_acc.set_ylim(1,100)\n",
    "\n",
    "plt.show()"
   ]
  },
  {
   "cell_type": "code",
   "execution_count": 13,
   "metadata": {
    "collapsed": true,
    "deletable": true,
    "editable": true
   },
   "outputs": [],
   "source": [
    "test = pd.read_csv('Mnist_Data1/test.csv') # Read csv file in pandas dataframe\n",
    "test_data = StandardScaler().fit_transform(np.float32(test.values)) # Convert the dataframe to a numpy array\n",
    "test_data = test_data.reshape(-1, WIDTH, WIDTH, CHANNELS) # Reshape the data into 42000 2d images"
   ]
  },
  {
   "cell_type": "code",
   "execution_count": 14,
   "metadata": {
    "collapsed": false,
    "deletable": true,
    "editable": true
   },
   "outputs": [],
   "source": [
    "test_pred = session.run(tf_pred, feed_dict={tf_data:test_data, keep_prob:1.0})\n",
    "test_labels = np.argmax(test_pred, axis=1)"
   ]
  },
  {
   "cell_type": "code",
   "execution_count": 15,
   "metadata": {
    "collapsed": false,
    "deletable": true,
    "editable": true
   },
   "outputs": [
    {
     "data": {
      "text/plain": [
       "array([2, 0, 9, ..., 3, 9, 2])"
      ]
     },
     "execution_count": 15,
     "metadata": {},
     "output_type": "execute_result"
    }
   ],
   "source": [
    "test_labels"
   ]
  },
  {
   "cell_type": "code",
   "execution_count": 16,
   "metadata": {
    "collapsed": false,
    "deletable": true,
    "editable": true
   },
   "outputs": [
    {
     "data": {
      "text/html": [
       "<div>\n",
       "<table border=\"1\" class=\"dataframe\">\n",
       "  <thead>\n",
       "    <tr style=\"text-align: right;\">\n",
       "      <th></th>\n",
       "      <th>ImageId</th>\n",
       "      <th>Label</th>\n",
       "    </tr>\n",
       "  </thead>\n",
       "  <tbody>\n",
       "    <tr>\n",
       "      <th>27995</th>\n",
       "      <td>27996</td>\n",
       "      <td>9</td>\n",
       "    </tr>\n",
       "    <tr>\n",
       "      <th>27996</th>\n",
       "      <td>27997</td>\n",
       "      <td>7</td>\n",
       "    </tr>\n",
       "    <tr>\n",
       "      <th>27997</th>\n",
       "      <td>27998</td>\n",
       "      <td>3</td>\n",
       "    </tr>\n",
       "    <tr>\n",
       "      <th>27998</th>\n",
       "      <td>27999</td>\n",
       "      <td>9</td>\n",
       "    </tr>\n",
       "    <tr>\n",
       "      <th>27999</th>\n",
       "      <td>28000</td>\n",
       "      <td>2</td>\n",
       "    </tr>\n",
       "  </tbody>\n",
       "</table>\n",
       "</div>"
      ],
      "text/plain": [
       "       ImageId  Label\n",
       "27995    27996      9\n",
       "27996    27997      7\n",
       "27997    27998      3\n",
       "27998    27999      9\n",
       "27999    28000      2"
      ]
     },
     "execution_count": 16,
     "metadata": {},
     "output_type": "execute_result"
    }
   ],
   "source": [
    "submission = pd.DataFrame(data={'ImageId':(np.arange(test_labels.shape[0])+1), 'Label':test_labels})\n",
    "submission.to_csv('submission.csv', index=False)\n",
    "submission.tail()\n"
   ]
  },
  {
   "cell_type": "code",
   "execution_count": null,
   "metadata": {
    "collapsed": true,
    "deletable": true,
    "editable": true
   },
   "outputs": [],
   "source": []
  }
 ],
 "metadata": {
  "kernelspec": {
   "display_name": "Python 3",
   "language": "python",
   "name": "python3"
  },
  "language_info": {
   "codemirror_mode": {
    "name": "ipython",
    "version": 3
   },
   "file_extension": ".py",
   "mimetype": "text/x-python",
   "name": "python",
   "nbconvert_exporter": "python",
   "pygments_lexer": "ipython3",
   "version": "3.5.3"
  }
 },
 "nbformat": 4,
 "nbformat_minor": 2
}
